{
 "cells": [
  {
   "cell_type": "code",
   "execution_count": 11,
   "metadata": {},
   "outputs": [
    {
     "ename": "KeyboardInterrupt",
     "evalue": "",
     "output_type": "error",
     "traceback": [
      "\u001b[1;31m---------------------------------------------------------------------------\u001b[0m",
      "\u001b[1;31mKeyboardInterrupt\u001b[0m                         Traceback (most recent call last)",
      "Cell \u001b[1;32mIn[11], line 53\u001b[0m\n\u001b[0;32m     50\u001b[0m         data_pd\u001b[38;5;241m.\u001b[39mto_csv(\u001b[38;5;124m'\u001b[39m\u001b[38;5;124mclean_\u001b[39m\u001b[38;5;124m'\u001b[39m\u001b[38;5;241m+\u001b[39m\u001b[38;5;28mstr\u001b[39m(num)\u001b[38;5;241m+\u001b[39m\u001b[38;5;124m'\u001b[39m\u001b[38;5;124m.csv\u001b[39m\u001b[38;5;124m'\u001b[39m,encoding\u001b[38;5;241m=\u001b[39m\u001b[38;5;124m'\u001b[39m\u001b[38;5;124mcp949\u001b[39m\u001b[38;5;124m'\u001b[39m)\n\u001b[0;32m     51\u001b[0m         num \u001b[38;5;241m+\u001b[39m\u001b[38;5;241m=\u001b[39m\u001b[38;5;241m1\u001b[39m\n\u001b[1;32m---> 53\u001b[0m \u001b[43mget_data\u001b[49m\u001b[43m(\u001b[49m\u001b[43m)\u001b[49m\n",
      "Cell \u001b[1;32mIn[11], line 38\u001b[0m, in \u001b[0;36mget_data\u001b[1;34m()\u001b[0m\n\u001b[0;32m     36\u001b[0m res \u001b[38;5;241m=\u001b[39m requests\u001b[38;5;241m.\u001b[39mget(url_all)\n\u001b[0;32m     37\u001b[0m text \u001b[38;5;241m=\u001b[39m res\u001b[38;5;241m.\u001b[39mtext\n\u001b[1;32m---> 38\u001b[0m soup \u001b[38;5;241m=\u001b[39m \u001b[43mBeautifulSoup\u001b[49m\u001b[43m(\u001b[49m\u001b[43mtext\u001b[49m\u001b[43m,\u001b[49m\u001b[38;5;124;43m'\u001b[39;49m\u001b[38;5;124;43mlxml-xml\u001b[39;49m\u001b[38;5;124;43m'\u001b[39;49m\u001b[43m)\u001b[49m\n\u001b[0;32m     40\u001b[0m \u001b[38;5;28;01mfor\u001b[39;00m item \u001b[38;5;129;01min\u001b[39;00m soup\u001b[38;5;241m.\u001b[39mselect(\u001b[38;5;124m'\u001b[39m\u001b[38;5;124mitem\u001b[39m\u001b[38;5;124m'\u001b[39m):\n\u001b[0;32m     41\u001b[0m     price \u001b[38;5;241m=\u001b[39m item\u001b[38;5;241m.\u001b[39m거래금액\u001b[38;5;241m.\u001b[39mtext\n",
      "File \u001b[1;32mc:\\Users\\yju12\\anaconda3\\lib\\site-packages\\bs4\\__init__.py:333\u001b[0m, in \u001b[0;36mBeautifulSoup.__init__\u001b[1;34m(self, markup, features, builder, parse_only, from_encoding, exclude_encodings, element_classes, **kwargs)\u001b[0m\n\u001b[0;32m    331\u001b[0m \u001b[38;5;28mself\u001b[39m\u001b[38;5;241m.\u001b[39mbuilder\u001b[38;5;241m.\u001b[39minitialize_soup(\u001b[38;5;28mself\u001b[39m)\n\u001b[0;32m    332\u001b[0m \u001b[38;5;28;01mtry\u001b[39;00m:\n\u001b[1;32m--> 333\u001b[0m     \u001b[38;5;28;43mself\u001b[39;49m\u001b[38;5;241;43m.\u001b[39;49m\u001b[43m_feed\u001b[49m\u001b[43m(\u001b[49m\u001b[43m)\u001b[49m\n\u001b[0;32m    334\u001b[0m     success \u001b[38;5;241m=\u001b[39m \u001b[38;5;28;01mTrue\u001b[39;00m\n\u001b[0;32m    335\u001b[0m     \u001b[38;5;28;01mbreak\u001b[39;00m\n",
      "File \u001b[1;32mc:\\Users\\yju12\\anaconda3\\lib\\site-packages\\bs4\\__init__.py:451\u001b[0m, in \u001b[0;36mBeautifulSoup._feed\u001b[1;34m(self)\u001b[0m\n\u001b[0;32m    448\u001b[0m \u001b[38;5;66;03m# Convert the document to Unicode.\u001b[39;00m\n\u001b[0;32m    449\u001b[0m \u001b[38;5;28mself\u001b[39m\u001b[38;5;241m.\u001b[39mbuilder\u001b[38;5;241m.\u001b[39mreset()\n\u001b[1;32m--> 451\u001b[0m \u001b[38;5;28;43mself\u001b[39;49m\u001b[38;5;241;43m.\u001b[39;49m\u001b[43mbuilder\u001b[49m\u001b[38;5;241;43m.\u001b[39;49m\u001b[43mfeed\u001b[49m\u001b[43m(\u001b[49m\u001b[38;5;28;43mself\u001b[39;49m\u001b[38;5;241;43m.\u001b[39;49m\u001b[43mmarkup\u001b[49m\u001b[43m)\u001b[49m\n\u001b[0;32m    452\u001b[0m \u001b[38;5;66;03m# Close out any unfinished strings and close all the open tags.\u001b[39;00m\n\u001b[0;32m    453\u001b[0m \u001b[38;5;28mself\u001b[39m\u001b[38;5;241m.\u001b[39mendData()\n",
      "File \u001b[1;32mc:\\Users\\yju12\\anaconda3\\lib\\site-packages\\bs4\\builder\\_lxml.py:230\u001b[0m, in \u001b[0;36mLXMLTreeBuilderForXML.feed\u001b[1;34m(self, markup)\u001b[0m\n\u001b[0;32m    228\u001b[0m \u001b[38;5;28;01mtry\u001b[39;00m:\n\u001b[0;32m    229\u001b[0m     \u001b[38;5;28mself\u001b[39m\u001b[38;5;241m.\u001b[39mparser \u001b[38;5;241m=\u001b[39m \u001b[38;5;28mself\u001b[39m\u001b[38;5;241m.\u001b[39mparser_for(\u001b[38;5;28mself\u001b[39m\u001b[38;5;241m.\u001b[39msoup\u001b[38;5;241m.\u001b[39moriginal_encoding)\n\u001b[1;32m--> 230\u001b[0m     \u001b[38;5;28;43mself\u001b[39;49m\u001b[38;5;241;43m.\u001b[39;49m\u001b[43mparser\u001b[49m\u001b[38;5;241;43m.\u001b[39;49m\u001b[43mfeed\u001b[49m\u001b[43m(\u001b[49m\u001b[43mdata\u001b[49m\u001b[43m)\u001b[49m\n\u001b[0;32m    231\u001b[0m     \u001b[38;5;28;01mwhile\u001b[39;00m \u001b[38;5;28mlen\u001b[39m(data) \u001b[38;5;241m!=\u001b[39m \u001b[38;5;241m0\u001b[39m:\n\u001b[0;32m    232\u001b[0m         \u001b[38;5;66;03m# Now call feed() on the rest of the data, chunk by chunk.\u001b[39;00m\n\u001b[0;32m    233\u001b[0m         data \u001b[38;5;241m=\u001b[39m markup\u001b[38;5;241m.\u001b[39mread(\u001b[38;5;28mself\u001b[39m\u001b[38;5;241m.\u001b[39mCHUNK_SIZE)\n",
      "File \u001b[1;32msrc/lxml/parser.pxi:1256\u001b[0m, in \u001b[0;36mlxml.etree._FeedParser.feed\u001b[1;34m()\u001b[0m\n",
      "File \u001b[1;32msrc/lxml/parser.pxi:1376\u001b[0m, in \u001b[0;36mlxml.etree._FeedParser.feed\u001b[1;34m()\u001b[0m\n",
      "File \u001b[1;32msrc/lxml/parsertarget.pxi:168\u001b[0m, in \u001b[0;36mlxml.etree._TargetParserContext._handleParseResult\u001b[1;34m()\u001b[0m\n",
      "File \u001b[1;32msrc/lxml/parsertarget.pxi:156\u001b[0m, in \u001b[0;36mlxml.etree._TargetParserContext._handleParseResult\u001b[1;34m()\u001b[0m\n",
      "File \u001b[1;32msrc/lxml/etree.pyx:333\u001b[0m, in \u001b[0;36mlxml.etree._ExceptionContext._raise_if_stored\u001b[1;34m()\u001b[0m\n",
      "File \u001b[1;32msrc/lxml/saxparser.pxi:389\u001b[0m, in \u001b[0;36mlxml.etree._handleSaxTargetStart\u001b[1;34m()\u001b[0m\n",
      "File \u001b[1;32msrc/lxml/saxparser.pxi:458\u001b[0m, in \u001b[0;36mlxml.etree._callTargetSaxStart\u001b[1;34m()\u001b[0m\n",
      "File \u001b[1;32msrc/lxml/parsertarget.pxi:94\u001b[0m, in \u001b[0;36mlxml.etree._PythonSaxParserTarget._handleSaxStart\u001b[1;34m()\u001b[0m\n",
      "File \u001b[1;32mc:\\Users\\yju12\\anaconda3\\lib\\site-packages\\bs4\\builder\\_lxml.py:243\u001b[0m, in \u001b[0;36mLXMLTreeBuilderForXML.start\u001b[1;34m(self, name, attrs, nsmap)\u001b[0m\n\u001b[0;32m    240\u001b[0m \u001b[38;5;28;01mdef\u001b[39;00m \u001b[38;5;21mclose\u001b[39m(\u001b[38;5;28mself\u001b[39m):\n\u001b[0;32m    241\u001b[0m     \u001b[38;5;28mself\u001b[39m\u001b[38;5;241m.\u001b[39mnsmaps \u001b[38;5;241m=\u001b[39m [\u001b[38;5;28mself\u001b[39m\u001b[38;5;241m.\u001b[39mDEFAULT_NSMAPS_INVERTED]\n\u001b[1;32m--> 243\u001b[0m \u001b[38;5;28;01mdef\u001b[39;00m \u001b[38;5;21mstart\u001b[39m(\u001b[38;5;28mself\u001b[39m, name, attrs, nsmap\u001b[38;5;241m=\u001b[39m{}):\n\u001b[0;32m    244\u001b[0m     \u001b[38;5;66;03m# Make sure attrs is a mutable dict--lxml may send an immutable dictproxy.\u001b[39;00m\n\u001b[0;32m    245\u001b[0m     attrs \u001b[38;5;241m=\u001b[39m \u001b[38;5;28mdict\u001b[39m(attrs)\n\u001b[0;32m    246\u001b[0m     nsprefix \u001b[38;5;241m=\u001b[39m \u001b[38;5;28;01mNone\u001b[39;00m\n",
      "\u001b[1;31mKeyboardInterrupt\u001b[0m: "
     ]
    }
   ],
   "source": [
    "import pandas as pd\n",
    "from bs4 import BeautifulSoup\n",
    "import requests\n",
    "import pandas as pd\n",
    "import numpy as np\n",
    "def get_data():\n",
    "    code = {'종로구': '11110', '중구': '11140', '용산구': '11170', '성동구': '11200', \n",
    "            '광진구': '11215', '동대문구': '11230', '중랑구': '11260', '성북구': '11290', \n",
    "            '강북구': '11305', '도봉구': '11320', '노원구': '11350', '은평구': '11380', \n",
    "            '서대문구': '11410', '마포구': '11440', '양천구': '11470', '강서구': '11500',\n",
    "            '구로구': '11530', '금천구': '11545', '영등포구': '11560', '동작구': '11590',\n",
    "            '관악구': '11620', '서초구': '11650', '강남구': '11680', '송파구': '11710', '강동구': '11740'}\n",
    "\n",
    "    dateList01 = [\"202101\",\"202102\",\"202103\",\"202104\",\"202105\",\"202106\",\"202107\",\"202108\",\"202109\",\"202110\",\"202111\",\"202112\"]\n",
    "    dateList02 = [\"202201\",\"202202\",\"202203\",\"202204\",\"202205\",\"202206\",\"202207\",\"202208\",\"202209\",\"202210\",\"202211\",\"202212\"]\n",
    "    dateList03 = [\"202301\",\"202302\",\"202303\",\"202304\",\"202305\",\"202306\",\"202307\",\"202308\",\"202309\",\"202310\",\"202311\",\"202312\"]\n",
    "    ## URL request --> 받아오기 ## --> 하루 1000트래픽 한정(1 계정당)\n",
    "\n",
    "    url = 'http://openapi.molit.go.kr:8081/OpenAPI_ToolInstallPackage/service/rest/RTMSOBJSvc/getRTMSDataSvcAptTrade?_wadl&type=xml'\n",
    "    # 서비스키 중요 --> 공공데이터포털에서 오픈API로 받은 인증키를 여기에 입력\n",
    "    serviceKey = 'serviceKey=' + \"WdyH4l9mEMcOGtog5rHiljpFemNJF%2BXGIy%2Bib49ybaGDDN9nGjMHseQpLyUG8lor1iEdm2oAI%2FfXAu0c5qOHkw%3D%3D\" + \"&\"\n",
    "\n",
    "    list = code.keys()\n",
    "    list01=[]\n",
    "    for i in list:\n",
    "        list01.append(i)\n",
    " \n",
    "    # num은 추출 년도에 맞게 수정하기.\n",
    "    num = 202101\n",
    "    for k in dateList03:\n",
    "        data_list=[]\n",
    "        for i in list01:\n",
    "            LAWD_CD = 'LAWD_CD=' + code[i] + '&' # 법정 코드 번호 --> 가운데 숫자만 변화주면됨. (위 codedict)\n",
    "            DEAL_YMD = 'DEAL_YMD=' + k # 기간 --> 수집시기는 우리의 몫\n",
    "            url_all = url + serviceKey + LAWD_CD + DEAL_YMD\n",
    "            res = requests.get(url_all)\n",
    "            text = res.text\n",
    "            soup = BeautifulSoup(text,'lxml-xml')\n",
    "\n",
    "            for item in soup.select('item'):\n",
    "                price = item.거래금액.text\n",
    "                apt = item.아파트.text\n",
    "                add = item.법정동.text\n",
    "                howbig = item.전용면적.text\n",
    "                zep = item.지번.text\n",
    "                floor = item.층.text\n",
    "                \n",
    "                data_list.append([apt,add+zep,price,howbig,floor+\"층\"])\n",
    "        data_pd=pd.DataFrame(data_list)  \n",
    "        data_pd.to_csv('clean_'+str(num)+'.csv',encoding='cp949')\n",
    "        num +=1\n",
    "\n",
    "# get_data()"
   ]
  },
  {
   "cell_type": "code",
   "execution_count": 13,
   "metadata": {},
   "outputs": [],
   "source": [
    "res = requests.get('http://openapi.molit.go.kr:8081/OpenAPI_ToolInstallPackage/service/rest/RTMSOBJSvc/getRTMSDataSvcAptTrade?serviceKey=WdyH4l9mEMcOGtog5rHiljpFemNJF%2BXGIy%2Bib49ybaGDDN9nGjMHseQpLyUG8lor1iEdm2oAI%2FfXAu0c5qOHkw%3D%3D&LAWD_CD=11110&DEAL_YMD=202101')"
   ]
  },
  {
   "cell_type": "code",
   "execution_count": 19,
   "metadata": {},
   "outputs": [
    {
     "data": {
      "text/plain": [
       "<거래금액>     130,000</거래금액>"
      ]
     },
     "execution_count": 19,
     "metadata": {},
     "output_type": "execute_result"
    }
   ],
   "source": [
    "BeautifulSoup(res.text, 'lxml-xml').select('item')[0].거래금액"
   ]
  },
  {
   "cell_type": "code",
   "execution_count": 23,
   "metadata": {},
   "outputs": [
    {
     "name": "stdout",
     "output_type": "stream",
     "text": [
      "['종로구', '중구', '용산구', '성동구', '광진구', '동대문구', '중랑구', '성북구', '강북구', '도봉구', '노원구', '은평구', '서대문구', '마포구', '양천구', '강서구', '구로구', '금천구', '영등포구', '동작구', '관악구', '서초구', '강남구', '송파구', '강동구']\n"
     ]
    }
   ],
   "source": [
    "code = {'종로구': '11110', '중구': '11140', '용산구': '11170', '성동구': '11200', \n",
    "        '광진구': '11215', '동대문구': '11230', '중랑구': '11260', '성북구': '11290', \n",
    "        '강북구': '11305', '도봉구': '11320', '노원구': '11350', '은평구': '11380', \n",
    "        '서대문구': '11410', '마포구': '11440', '양천구': '11470', '강서구': '11500',\n",
    "        '구로구': '11530', '금천구': '11545', '영등포구': '11560', '동작구': '11590',\n",
    "        '관악구': '11620', '서초구': '11650', '강남구': '11680', '송파구': '11710', '강동구': '11740'}\n",
    "\n",
    "# 2021~2023 3개년 데이터 추출\n",
    "dateList01 = [\"202101\",\"202102\",\"202103\",\"202104\",\"202105\",\"202106\",\"202107\",\"202108\",\"202109\",\"202110\",\"202111\",\"202112\"]\n",
    "dateList02 = [\"202201\",\"202202\",\"202203\",\"202204\",\"202205\",\"202206\",\"202207\",\"202208\",\"202209\",\"202210\",\"202211\",\"202212\"]\n",
    "dateList03 = [\"202301\",\"202302\",\"202303\",\"202304\",\"202305\",\"202306\",\"202307\",\"202308\",\"202309\",\"202310\",\"202311\",\"202312\"]\n",
    "\n",
    "url = 'http://openapi.molit.go.kr:8081/OpenAPI_ToolInstallPackage/service/rest/RTMSOBJSvc/getRTMSDataSvcAptTrade?_wadl&type=xml'\n",
    "serviceKey = 'serviceKey=' + \"WdyH4l9mEMcOGtog5rHiljpFemNJF%2BXGIy%2Bib49ybaGDDN9nGjMHseQpLyUG8lor1iEdm2oAI%2FfXAu0c5qOHkw%3D%3D\" + \"&\"\n",
    "\n",
    "lst = list(code.keys())\n",
    "\n",
    "for i in lst:\n",
    "        code_num = code[i]\n",
    "        \n",
    "        for k in dateList01:\n",
    "                "
   ]
  },
  {
   "cell_type": "code",
   "execution_count": null,
   "metadata": {},
   "outputs": [],
   "source": []
  }
 ],
 "metadata": {
  "kernelspec": {
   "display_name": "base",
   "language": "python",
   "name": "python3"
  },
  "language_info": {
   "codemirror_mode": {
    "name": "ipython",
    "version": 3
   },
   "file_extension": ".py",
   "mimetype": "text/x-python",
   "name": "python",
   "nbconvert_exporter": "python",
   "pygments_lexer": "ipython3",
   "version": "3.10.9"
  }
 },
 "nbformat": 4,
 "nbformat_minor": 2
}
