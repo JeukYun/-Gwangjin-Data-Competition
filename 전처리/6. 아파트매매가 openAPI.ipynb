{
 "cells": [
  {
   "cell_type": "code",
   "execution_count": 6,
   "metadata": {},
   "outputs": [],
   "source": [
    "import pandas as pd\n",
    "from bs4 import BeautifulSoup\n",
    "import requests\n",
    "import pandas as pd\n",
    "import numpy as np"
   ]
  },
  {
   "cell_type": "code",
   "execution_count": 7,
   "metadata": {},
   "outputs": [],
   "source": [
    "def get_data(date_list, num):\n",
    "    code = {'종로구': '11110', '중구': '11140', '용산구': '11170', '성동구': '11200', \n",
    "            '광진구': '11215', '동대문구': '11230', '중랑구': '11260', '성북구': '11290', \n",
    "            '강북구': '11305', '도봉구': '11320', '노원구': '11350', '은평구': '11380', \n",
    "            '서대문구': '11410', '마포구': '11440', '양천구': '11470', '강서구': '11500',\n",
    "            '구로구': '11530', '금천구': '11545', '영등포구': '11560', '동작구': '11590',\n",
    "            '관악구': '11620', '서초구': '11650', '강남구': '11680', '송파구': '11710', '강동구': '11740'}\n",
    "\n",
    "    ## URL request --> 받아오기 ## --> 하루 1000트래픽 한정(1 계정당)\n",
    "\n",
    "    url = 'http://openapi.molit.go.kr:8081/OpenAPI_ToolInstallPackage/service/rest/RTMSOBJSvc/getRTMSDataSvcAptTrade?'\n",
    "    # 서비스키 중요 --> 공공데이터포털에서 오픈API로 받은 인증키를 여기에 입력\n",
    "    serviceKey = 'serviceKey=' + \"WdyH4l9mEMcOGtog5rHiljpFemNJF%2BXGIy%2Bib49ybaGDDN9nGjMHseQpLyUG8lor1iEdm2oAI%2FfXAu0c5qOHkw%3D%3D\" + \"&\"\n",
    "\n",
    "    list = code.keys()\n",
    "    list01=[]\n",
    "    for i in list:\n",
    "        list01.append(i)\n",
    "\n",
    "    for k in date_list:\n",
    "        data_list=[]\n",
    "        for i in list01:\n",
    "            LAWD_CD = 'LAWD_CD=' + code[i] + '&' \n",
    "            DEAL_YMD = 'DEAL_YMD=' + k \n",
    "            url_all = url + serviceKey + LAWD_CD + DEAL_YMD\n",
    "            res = requests.get(url_all)\n",
    "            text = res.text\n",
    "            soup = BeautifulSoup(text,'lxml-xml')\n",
    "\n",
    "            for item in soup.select('item'): # 누락된 값으로 인한 오류로 인해 예외처리\n",
    "                try:\n",
    "                    price = item.거래금액.text\n",
    "                    apt = item.아파트.text\n",
    "                    add = item.법정동.text\n",
    "                    howbig = item.전용면적.text\n",
    "                    zep = item.지번.text\n",
    "                    floor = item.층.text\n",
    "                except:\n",
    "                    continue\n",
    "                \n",
    "                data_list.append([apt, i + add + ' ' + zep, price, howbig, floor+\"층\"])\n",
    "        data_pd=pd.DataFrame(data_list, columns = ['아파트명', '주소', '가격', '면적', '층수'])  \n",
    "        data_pd.to_csv('clean_'+str(num)+'.csv',index = False, encoding='ansi')\n",
    "        num +=1"
   ]
  },
  {
   "cell_type": "code",
   "execution_count": 8,
   "metadata": {},
   "outputs": [],
   "source": [
    "dateList01 = [\"202101\",\"202102\",\"202103\",\"202104\",\"202105\",\"202106\",\"202107\",\"202108\",\"202109\",\"202110\",\"202111\",\"202112\"]\n",
    "dateList02 = [\"202201\",\"202202\",\"202203\",\"202204\",\"202205\",\"202206\",\"202207\",\"202208\",\"202209\",\"202210\",\"202211\",\"202212\"]\n",
    "dateList03 = [\"202301\",\"202302\",\"202303\",\"202304\",\"202305\",\"202306\",\"202307\",\"202308\",\"202309\",\"202310\",\"202311\",\"202312\"]"
   ]
  },
  {
   "cell_type": "code",
   "execution_count": 9,
   "metadata": {},
   "outputs": [],
   "source": [
    "get_data(dateList01, 202101)"
   ]
  },
  {
   "cell_type": "code",
   "execution_count": 10,
   "metadata": {},
   "outputs": [],
   "source": [
    "get_data(dateList02, 202201)"
   ]
  },
  {
   "cell_type": "code",
   "execution_count": 11,
   "metadata": {},
   "outputs": [],
   "source": [
    "get_data(dateList03, 202301)"
   ]
  },
  {
   "cell_type": "code",
   "execution_count": null,
   "metadata": {},
   "outputs": [],
   "source": []
  }
 ],
 "metadata": {
  "kernelspec": {
   "display_name": "base",
   "language": "python",
   "name": "python3"
  },
  "language_info": {
   "codemirror_mode": {
    "name": "ipython",
    "version": 3
   },
   "file_extension": ".py",
   "mimetype": "text/x-python",
   "name": "python",
   "nbconvert_exporter": "python",
   "pygments_lexer": "ipython3",
   "version": "3.10.9"
  }
 },
 "nbformat": 4,
 "nbformat_minor": 2
}
